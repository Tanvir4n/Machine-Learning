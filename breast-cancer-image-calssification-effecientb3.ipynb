{
 "cells": [
  {
   "cell_type": "code",
   "execution_count": 3,
   "id": "2a260585",
   "metadata": {
    "_cell_guid": "b1076dfc-b9ad-4769-8c92-a6c4dae69d19",
    "_uuid": "8f2839f25d086af736a60e9eeb907d3b93b6e0e5",
    "execution": {
     "iopub.execute_input": "2024-07-23T23:58:18.199184Z",
     "iopub.status.busy": "2024-07-23T23:58:18.198802Z",
     "iopub.status.idle": "2024-07-23T23:58:32.407260Z",
     "shell.execute_reply": "2024-07-23T23:58:32.406039Z"
    },
    "papermill": {
     "duration": 14.216816,
     "end_time": "2024-07-23T23:58:32.409498",
     "exception": false,
     "start_time": "2024-07-23T23:58:18.192682",
     "status": "completed"
    },
    "tags": []
   },
   "outputs": [
    {
     "name": "stdout",
     "output_type": "stream",
     "text": [
      "modules loaded\n"
     ]
    }
   ],
   "source": [
    "# import system libs\n",
    "import os\n",
    "import time\n",
    "import shutil\n",
    "import pathlib\n",
    "import itertools\n",
    "from PIL import Image\n",
    "import cv2\n",
    "import numpy as np\n",
    "import pandas as pd\n",
    "# import Deep learning Libraries\n",
    "import tensorflow as tf\n",
    "from tensorflow import keras\n",
    "from tensorflow.keras.models import Sequential\n",
    "from tensorflow.keras.optimizers import Adam, Adamax\n",
    "from tensorflow.keras.preprocessing.image import ImageDataGenerator\n",
    "from tensorflow.keras.layers import Conv2D, MaxPooling2D, Flatten, Dense, Activation, Dropout, BatchNormalization\n",
    "from tensorflow.keras import regularizers\n",
    "\n",
    "import seaborn as sns\n",
    "sns.set_style('darkgrid')\n",
    "import matplotlib.pyplot as plt\n",
    "from sklearn.model_selection import train_test_split\n",
    "from sklearn.metrics import confusion_matrix, classification_report\n",
    "\n",
    "# Ignore Warnings\n",
    "import warnings\n",
    "warnings.filterwarnings(\"ignore\")\n",
    "\n",
    "print ('modules loaded')"
   ]
  },
  {
   "cell_type": "code",
   "execution_count": 4,
   "id": "e94b1d22",
   "metadata": {
    "execution": {
     "iopub.execute_input": "2024-07-23T23:58:32.430083Z",
     "iopub.status.busy": "2024-07-23T23:58:32.429376Z",
     "iopub.status.idle": "2024-07-23T23:58:32.831695Z",
     "shell.execute_reply": "2024-07-23T23:58:32.830749Z"
    },
    "papermill": {
     "duration": 0.410454,
     "end_time": "2024-07-23T23:58:32.834039",
     "exception": false,
     "start_time": "2024-07-23T23:58:32.423585",
     "status": "completed"
    },
    "tags": []
   },
   "outputs": [
    {
     "name": "stdout",
     "output_type": "stream",
     "text": [
      "                                           filepaths  labels\n",
      "0      D:\\Dataset_BUSI_with_GT\\benign\\benign (1).png  benign\n",
      "1  D:\\Dataset_BUSI_with_GT\\benign\\benign (1)_mask...  benign\n",
      "2     D:\\Dataset_BUSI_with_GT\\benign\\benign (10).png  benign\n",
      "3  D:\\Dataset_BUSI_with_GT\\benign\\benign (10)_mas...  benign\n",
      "4    D:\\Dataset_BUSI_with_GT\\benign\\benign (100).png  benign\n"
     ]
    }
   ],
   "source": [
    "from pathlib import Path\n",
    "import os\n",
    "import pandas as pd\n",
    "\n",
    "# Define the data directory\n",
    "data_dir = Path(r\"D:\\Dataset_BUSI_with_GT\")\n",
    "\n",
    "filepaths = []\n",
    "labels = []\n",
    "\n",
    "# Generate data paths with labels\n",
    "folds = os.listdir(data_dir)\n",
    "for fold in folds:\n",
    "    foldpath = data_dir / fold  # Use Path for directory\n",
    "    filelist = os.listdir(foldpath)\n",
    "    for file in filelist:\n",
    "        fpath = foldpath / file  # Use Path for file paths\n",
    "        filepaths.append(str(fpath))  # Convert Path object to string\n",
    "        labels.append(fold)\n",
    "\n",
    "# Concatenate data paths with labels into one dataframe\n",
    "Fseries = pd.Series(filepaths, name='filepaths')\n",
    "Lseries = pd.Series(labels, name='labels')\n",
    "df = pd.concat([Fseries, Lseries], axis=1)\n",
    "\n",
    "# Display the dataframe\n",
    "print(df.head())\n"
   ]
  },
  {
   "cell_type": "code",
   "execution_count": 5,
   "id": "9b2ffabc",
   "metadata": {
    "execution": {
     "iopub.execute_input": "2024-07-23T23:58:32.844602Z",
     "iopub.status.busy": "2024-07-23T23:58:32.844273Z",
     "iopub.status.idle": "2024-07-23T23:58:32.863320Z",
     "shell.execute_reply": "2024-07-23T23:58:32.862461Z"
    },
    "papermill": {
     "duration": 0.026572,
     "end_time": "2024-07-23T23:58:32.865304",
     "exception": false,
     "start_time": "2024-07-23T23:58:32.838732",
     "status": "completed"
    },
    "tags": []
   },
   "outputs": [
    {
     "data": {
      "text/html": [
       "<div>\n",
       "<style scoped>\n",
       "    .dataframe tbody tr th:only-of-type {\n",
       "        vertical-align: middle;\n",
       "    }\n",
       "\n",
       "    .dataframe tbody tr th {\n",
       "        vertical-align: top;\n",
       "    }\n",
       "\n",
       "    .dataframe thead th {\n",
       "        text-align: right;\n",
       "    }\n",
       "</style>\n",
       "<table border=\"1\" class=\"dataframe\">\n",
       "  <thead>\n",
       "    <tr style=\"text-align: right;\">\n",
       "      <th></th>\n",
       "      <th>filepaths</th>\n",
       "      <th>labels</th>\n",
       "    </tr>\n",
       "  </thead>\n",
       "  <tbody>\n",
       "    <tr>\n",
       "      <th>0</th>\n",
       "      <td>D:\\Dataset_BUSI_with_GT\\benign\\benign (1).png</td>\n",
       "      <td>benign</td>\n",
       "    </tr>\n",
       "    <tr>\n",
       "      <th>1</th>\n",
       "      <td>D:\\Dataset_BUSI_with_GT\\benign\\benign (1)_mask...</td>\n",
       "      <td>benign</td>\n",
       "    </tr>\n",
       "    <tr>\n",
       "      <th>2</th>\n",
       "      <td>D:\\Dataset_BUSI_with_GT\\benign\\benign (10).png</td>\n",
       "      <td>benign</td>\n",
       "    </tr>\n",
       "    <tr>\n",
       "      <th>3</th>\n",
       "      <td>D:\\Dataset_BUSI_with_GT\\benign\\benign (10)_mas...</td>\n",
       "      <td>benign</td>\n",
       "    </tr>\n",
       "    <tr>\n",
       "      <th>4</th>\n",
       "      <td>D:\\Dataset_BUSI_with_GT\\benign\\benign (100).png</td>\n",
       "      <td>benign</td>\n",
       "    </tr>\n",
       "    <tr>\n",
       "      <th>...</th>\n",
       "      <td>...</td>\n",
       "      <td>...</td>\n",
       "    </tr>\n",
       "    <tr>\n",
       "      <th>1573</th>\n",
       "      <td>D:\\Dataset_BUSI_with_GT\\normal\\normal (97)_mas...</td>\n",
       "      <td>normal</td>\n",
       "    </tr>\n",
       "    <tr>\n",
       "      <th>1574</th>\n",
       "      <td>D:\\Dataset_BUSI_with_GT\\normal\\normal (98).png</td>\n",
       "      <td>normal</td>\n",
       "    </tr>\n",
       "    <tr>\n",
       "      <th>1575</th>\n",
       "      <td>D:\\Dataset_BUSI_with_GT\\normal\\normal (98)_mas...</td>\n",
       "      <td>normal</td>\n",
       "    </tr>\n",
       "    <tr>\n",
       "      <th>1576</th>\n",
       "      <td>D:\\Dataset_BUSI_with_GT\\normal\\normal (99).png</td>\n",
       "      <td>normal</td>\n",
       "    </tr>\n",
       "    <tr>\n",
       "      <th>1577</th>\n",
       "      <td>D:\\Dataset_BUSI_with_GT\\normal\\normal (99)_mas...</td>\n",
       "      <td>normal</td>\n",
       "    </tr>\n",
       "  </tbody>\n",
       "</table>\n",
       "<p>1578 rows × 2 columns</p>\n",
       "</div>"
      ],
      "text/plain": [
       "                                              filepaths  labels\n",
       "0         D:\\Dataset_BUSI_with_GT\\benign\\benign (1).png  benign\n",
       "1     D:\\Dataset_BUSI_with_GT\\benign\\benign (1)_mask...  benign\n",
       "2        D:\\Dataset_BUSI_with_GT\\benign\\benign (10).png  benign\n",
       "3     D:\\Dataset_BUSI_with_GT\\benign\\benign (10)_mas...  benign\n",
       "4       D:\\Dataset_BUSI_with_GT\\benign\\benign (100).png  benign\n",
       "...                                                 ...     ...\n",
       "1573  D:\\Dataset_BUSI_with_GT\\normal\\normal (97)_mas...  normal\n",
       "1574     D:\\Dataset_BUSI_with_GT\\normal\\normal (98).png  normal\n",
       "1575  D:\\Dataset_BUSI_with_GT\\normal\\normal (98)_mas...  normal\n",
       "1576     D:\\Dataset_BUSI_with_GT\\normal\\normal (99).png  normal\n",
       "1577  D:\\Dataset_BUSI_with_GT\\normal\\normal (99)_mas...  normal\n",
       "\n",
       "[1578 rows x 2 columns]"
      ]
     },
     "execution_count": 5,
     "metadata": {},
     "output_type": "execute_result"
    }
   ],
   "source": [
    "df"
   ]
  },
  {
   "cell_type": "code",
   "execution_count": 6,
   "id": "238c0c84",
   "metadata": {
    "execution": {
     "iopub.execute_input": "2024-07-23T23:58:32.875690Z",
     "iopub.status.busy": "2024-07-23T23:58:32.875403Z",
     "iopub.status.idle": "2024-07-23T23:58:32.887765Z",
     "shell.execute_reply": "2024-07-23T23:58:32.886811Z"
    },
    "papermill": {
     "duration": 0.019791,
     "end_time": "2024-07-23T23:58:32.889773",
     "exception": false,
     "start_time": "2024-07-23T23:58:32.869982",
     "status": "completed"
    },
    "tags": []
   },
   "outputs": [],
   "source": [
    "strat = df['labels']\n",
    "train_df, test_df = train_test_split(df,  train_size= 0.8, shuffle= True, random_state= 123, stratify= strat)"
   ]
  },
  {
   "cell_type": "code",
   "execution_count": 7,
   "id": "f868a612",
   "metadata": {
    "execution": {
     "iopub.execute_input": "2024-07-23T23:58:32.900451Z",
     "iopub.status.busy": "2024-07-23T23:58:32.900148Z",
     "iopub.status.idle": "2024-07-23T23:58:32.910433Z",
     "shell.execute_reply": "2024-07-23T23:58:32.909567Z"
    },
    "papermill": {
     "duration": 0.017959,
     "end_time": "2024-07-23T23:58:32.912541",
     "exception": false,
     "start_time": "2024-07-23T23:58:32.894582",
     "status": "completed"
    },
    "tags": []
   },
   "outputs": [
    {
     "data": {
      "text/html": [
       "<div>\n",
       "<style scoped>\n",
       "    .dataframe tbody tr th:only-of-type {\n",
       "        vertical-align: middle;\n",
       "    }\n",
       "\n",
       "    .dataframe tbody tr th {\n",
       "        vertical-align: top;\n",
       "    }\n",
       "\n",
       "    .dataframe thead th {\n",
       "        text-align: right;\n",
       "    }\n",
       "</style>\n",
       "<table border=\"1\" class=\"dataframe\">\n",
       "  <thead>\n",
       "    <tr style=\"text-align: right;\">\n",
       "      <th></th>\n",
       "      <th>filepaths</th>\n",
       "      <th>labels</th>\n",
       "    </tr>\n",
       "  </thead>\n",
       "  <tbody>\n",
       "    <tr>\n",
       "      <th>1445</th>\n",
       "      <td>D:\\Dataset_BUSI_with_GT\\normal\\normal (39)_mas...</td>\n",
       "      <td>normal</td>\n",
       "    </tr>\n",
       "    <tr>\n",
       "      <th>215</th>\n",
       "      <td>D:\\Dataset_BUSI_with_GT\\benign\\benign (194)_ma...</td>\n",
       "      <td>benign</td>\n",
       "    </tr>\n",
       "    <tr>\n",
       "      <th>106</th>\n",
       "      <td>D:\\Dataset_BUSI_with_GT\\benign\\benign (146)_ma...</td>\n",
       "      <td>benign</td>\n",
       "    </tr>\n",
       "    <tr>\n",
       "      <th>339</th>\n",
       "      <td>D:\\Dataset_BUSI_with_GT\\benign\\benign (249)_ma...</td>\n",
       "      <td>benign</td>\n",
       "    </tr>\n",
       "    <tr>\n",
       "      <th>305</th>\n",
       "      <td>D:\\Dataset_BUSI_with_GT\\benign\\benign (233)_ma...</td>\n",
       "      <td>benign</td>\n",
       "    </tr>\n",
       "    <tr>\n",
       "      <th>...</th>\n",
       "      <td>...</td>\n",
       "      <td>...</td>\n",
       "    </tr>\n",
       "    <tr>\n",
       "      <th>1178</th>\n",
       "      <td>D:\\Dataset_BUSI_with_GT\\malignant\\malignant (3...</td>\n",
       "      <td>malignant</td>\n",
       "    </tr>\n",
       "    <tr>\n",
       "      <th>1147</th>\n",
       "      <td>D:\\Dataset_BUSI_with_GT\\malignant\\malignant (2...</td>\n",
       "      <td>malignant</td>\n",
       "    </tr>\n",
       "    <tr>\n",
       "      <th>460</th>\n",
       "      <td>D:\\Dataset_BUSI_with_GT\\benign\\benign (302)_ma...</td>\n",
       "      <td>benign</td>\n",
       "    </tr>\n",
       "    <tr>\n",
       "      <th>1530</th>\n",
       "      <td>D:\\Dataset_BUSI_with_GT\\normal\\normal (78).png</td>\n",
       "      <td>normal</td>\n",
       "    </tr>\n",
       "    <tr>\n",
       "      <th>222</th>\n",
       "      <td>D:\\Dataset_BUSI_with_GT\\benign\\benign (197).png</td>\n",
       "      <td>benign</td>\n",
       "    </tr>\n",
       "  </tbody>\n",
       "</table>\n",
       "<p>316 rows × 2 columns</p>\n",
       "</div>"
      ],
      "text/plain": [
       "                                              filepaths     labels\n",
       "1445  D:\\Dataset_BUSI_with_GT\\normal\\normal (39)_mas...     normal\n",
       "215   D:\\Dataset_BUSI_with_GT\\benign\\benign (194)_ma...     benign\n",
       "106   D:\\Dataset_BUSI_with_GT\\benign\\benign (146)_ma...     benign\n",
       "339   D:\\Dataset_BUSI_with_GT\\benign\\benign (249)_ma...     benign\n",
       "305   D:\\Dataset_BUSI_with_GT\\benign\\benign (233)_ma...     benign\n",
       "...                                                 ...        ...\n",
       "1178  D:\\Dataset_BUSI_with_GT\\malignant\\malignant (3...  malignant\n",
       "1147  D:\\Dataset_BUSI_with_GT\\malignant\\malignant (2...  malignant\n",
       "460   D:\\Dataset_BUSI_with_GT\\benign\\benign (302)_ma...     benign\n",
       "1530     D:\\Dataset_BUSI_with_GT\\normal\\normal (78).png     normal\n",
       "222     D:\\Dataset_BUSI_with_GT\\benign\\benign (197).png     benign\n",
       "\n",
       "[316 rows x 2 columns]"
      ]
     },
     "execution_count": 7,
     "metadata": {},
     "output_type": "execute_result"
    }
   ],
   "source": [
    "test_df"
   ]
  },
  {
   "cell_type": "code",
   "execution_count": 8,
   "id": "da4f0262",
   "metadata": {
    "execution": {
     "iopub.execute_input": "2024-07-23T23:58:32.925119Z",
     "iopub.status.busy": "2024-07-23T23:58:32.924288Z",
     "iopub.status.idle": "2024-07-23T23:58:33.169541Z",
     "shell.execute_reply": "2024-07-23T23:58:33.168664Z"
    },
    "papermill": {
     "duration": 0.253629,
     "end_time": "2024-07-23T23:58:33.171619",
     "exception": false,
     "start_time": "2024-07-23T23:58:32.917990",
     "status": "completed"
    },
    "tags": []
   },
   "outputs": [
    {
     "name": "stdout",
     "output_type": "stream",
     "text": [
      "Found 1262 validated image filenames belonging to 3 classes.\n",
      "Found 316 validated image filenames belonging to 3 classes.\n"
     ]
    }
   ],
   "source": [
    "# crobed image size\n",
    "batch_size = 8\n",
    "img_size = (224, 224)\n",
    "channels = 3\n",
    "img_shape = (img_size[0], img_size[1], channels)\n",
    "\n",
    "tr_gen = ImageDataGenerator()\n",
    "ts_gen = ImageDataGenerator()\n",
    "\n",
    "train_gen = tr_gen.flow_from_dataframe( train_df, x_col= 'filepaths', y_col= 'labels', target_size= img_size, class_mode= 'categorical',\n",
    "                                    color_mode= 'rgb', shuffle= True, batch_size= batch_size)\n",
    "\n",
    "test_gen = ts_gen.flow_from_dataframe( test_df, x_col= 'filepaths', y_col= 'labels', target_size= img_size, class_mode= 'categorical',\n",
    "                                    color_mode= 'rgb', shuffle= False, batch_size= batch_size)"
   ]
  },
  {
   "cell_type": "code",
   "execution_count": 9,
   "id": "fc41c738",
   "metadata": {
    "execution": {
     "iopub.execute_input": "2024-07-23T23:58:33.183450Z",
     "iopub.status.busy": "2024-07-23T23:58:33.183156Z",
     "iopub.status.idle": "2024-07-23T23:58:38.685184Z",
     "shell.execute_reply": "2024-07-23T23:58:38.684314Z"
    },
    "papermill": {
     "duration": 5.510364,
     "end_time": "2024-07-23T23:58:38.687548",
     "exception": false,
     "start_time": "2024-07-23T23:58:33.177184",
     "status": "completed"
    },
    "tags": []
   },
   "outputs": [
    {
     "name": "stdout",
     "output_type": "stream",
     "text": [
      "Downloading data from https://storage.googleapis.com/keras-applications/efficientnetb3_notop.h5\n",
      "\u001b[1m43941136/43941136\u001b[0m \u001b[32m━━━━━━━━━━━━━━━━━━━━\u001b[0m\u001b[37m\u001b[0m \u001b[1m48s\u001b[0m 1us/step\n"
     ]
    }
   ],
   "source": [
    "# Create Model Structure\n",
    "img_size = (224, 224)\n",
    "channels = 3\n",
    "img_shape = (img_size[0], img_size[1], channels)\n",
    "class_count = len(list(train_gen.class_indices.keys())) # to define number of classes in dense layer\n",
    "\n",
    "# create pre-trained model (you can built on pretrained model such as :  efficientnet, VGG , Resnet )\n",
    "# we will use efficientnetb3 from EfficientNet family.\n",
    "base_model = tf.keras.applications.efficientnet.EfficientNetB3(include_top= False, weights= \"imagenet\", \n",
    "                                                               input_shape= img_shape, pooling= 'max')\n",
    "\n",
    "\n",
    "model = Sequential([\n",
    "    base_model,\n",
    "    BatchNormalization(axis= -1, momentum= 0.99, epsilon= 0.001),\n",
    "    Dense(256, kernel_regularizer= regularizers.l2(0.016), activity_regularizer= regularizers.l1(0.006),\n",
    "                bias_regularizer= regularizers.l1(0.006), activation= 'relu'),\n",
    "    Dropout(rate= 0.45, seed= 123),\n",
    "    Dense(class_count, activation= 'softmax')\n",
    "])\n",
    "\n",
    "\n",
    "model.compile(Adamax(learning_rate= 0.001), loss= 'categorical_crossentropy', metrics= ['accuracy'])\n",
    "\n"
   ]
  },
  {
   "cell_type": "code",
   "execution_count": 10,
   "id": "8c015ed7",
   "metadata": {
    "execution": {
     "iopub.execute_input": "2024-07-23T23:58:38.705819Z",
     "iopub.status.busy": "2024-07-23T23:58:38.705245Z",
     "iopub.status.idle": "2024-07-24T00:16:53.808451Z",
     "shell.execute_reply": "2024-07-24T00:16:53.807434Z"
    },
    "papermill": {
     "duration": 1095.114498,
     "end_time": "2024-07-24T00:16:53.810654",
     "exception": false,
     "start_time": "2024-07-23T23:58:38.696156",
     "status": "completed"
    },
    "tags": []
   },
   "outputs": [
    {
     "name": "stdout",
     "output_type": "stream",
     "text": [
      "Epoch 1/50\n",
      "\u001b[1m158/158\u001b[0m \u001b[32m━━━━━━━━━━━━━━━━━━━━\u001b[0m\u001b[37m\u001b[0m \u001b[1m550s\u001b[0m 3s/step - accuracy: 0.5975 - loss: 11.3299 - val_accuracy: 0.7437 - val_loss: 7.3563\n",
      "Epoch 2/50\n",
      "\u001b[1m158/158\u001b[0m \u001b[32m━━━━━━━━━━━━━━━━━━━━\u001b[0m\u001b[37m\u001b[0m \u001b[1m407s\u001b[0m 3s/step - accuracy: 0.6152 - loss: 6.7392 - val_accuracy: 0.7595 - val_loss: 5.9137\n",
      "Epoch 3/50\n",
      "\u001b[1m158/158\u001b[0m \u001b[32m━━━━━━━━━━━━━━━━━━━━\u001b[0m\u001b[37m\u001b[0m \u001b[1m418s\u001b[0m 3s/step - accuracy: 0.7029 - loss: 5.6743 - val_accuracy: 0.7690 - val_loss: 4.9838\n",
      "Epoch 4/50\n",
      "\u001b[1m158/158\u001b[0m \u001b[32m━━━━━━━━━━━━━━━━━━━━\u001b[0m\u001b[37m\u001b[0m \u001b[1m432s\u001b[0m 3s/step - accuracy: 0.7339 - loss: 4.7980 - val_accuracy: 0.7690 - val_loss: 4.1970\n",
      "Epoch 5/50\n",
      "\u001b[1m158/158\u001b[0m \u001b[32m━━━━━━━━━━━━━━━━━━━━\u001b[0m\u001b[37m\u001b[0m \u001b[1m395s\u001b[0m 2s/step - accuracy: 0.7482 - loss: 4.0571 - val_accuracy: 0.7816 - val_loss: 3.5179\n",
      "Epoch 6/50\n",
      "\u001b[1m158/158\u001b[0m \u001b[32m━━━━━━━━━━━━━━━━━━━━\u001b[0m\u001b[37m\u001b[0m \u001b[1m356s\u001b[0m 2s/step - accuracy: 0.8020 - loss: 3.4114 - val_accuracy: 0.8228 - val_loss: 2.9291\n",
      "Epoch 7/50\n",
      "\u001b[1m158/158\u001b[0m \u001b[32m━━━━━━━━━━━━━━━━━━━━\u001b[0m\u001b[37m\u001b[0m \u001b[1m355s\u001b[0m 2s/step - accuracy: 0.8201 - loss: 2.8431 - val_accuracy: 0.8291 - val_loss: 2.4350\n",
      "Epoch 8/50\n",
      "\u001b[1m158/158\u001b[0m \u001b[32m━━━━━━━━━━━━━━━━━━━━\u001b[0m\u001b[37m\u001b[0m \u001b[1m364s\u001b[0m 2s/step - accuracy: 0.8090 - loss: 2.3951 - val_accuracy: 0.8354 - val_loss: 2.0630\n",
      "Epoch 9/50\n",
      "\u001b[1m158/158\u001b[0m \u001b[32m━━━━━━━━━━━━━━━━━━━━\u001b[0m\u001b[37m\u001b[0m \u001b[1m359s\u001b[0m 2s/step - accuracy: 0.8531 - loss: 2.0307 - val_accuracy: 0.8323 - val_loss: 1.7224\n",
      "Epoch 10/50\n",
      "\u001b[1m158/158\u001b[0m \u001b[32m━━━━━━━━━━━━━━━━━━━━\u001b[0m\u001b[37m\u001b[0m \u001b[1m358s\u001b[0m 2s/step - accuracy: 0.8652 - loss: 1.7166 - val_accuracy: 0.8987 - val_loss: 1.5052\n",
      "Epoch 11/50\n",
      "\u001b[1m158/158\u001b[0m \u001b[32m━━━━━━━━━━━━━━━━━━━━\u001b[0m\u001b[37m\u001b[0m \u001b[1m352s\u001b[0m 2s/step - accuracy: 0.8933 - loss: 1.4510 - val_accuracy: 0.9019 - val_loss: 1.3060\n",
      "Epoch 12/50\n",
      "\u001b[1m158/158\u001b[0m \u001b[32m━━━━━━━━━━━━━━━━━━━━\u001b[0m\u001b[37m\u001b[0m \u001b[1m351s\u001b[0m 2s/step - accuracy: 0.9063 - loss: 1.2641 - val_accuracy: 0.9304 - val_loss: 1.0702\n",
      "Epoch 13/50\n",
      "\u001b[1m158/158\u001b[0m \u001b[32m━━━━━━━━━━━━━━━━━━━━\u001b[0m\u001b[37m\u001b[0m \u001b[1m353s\u001b[0m 2s/step - accuracy: 0.9192 - loss: 1.1085 - val_accuracy: 0.9430 - val_loss: 0.9595\n",
      "Epoch 14/50\n",
      "\u001b[1m158/158\u001b[0m \u001b[32m━━━━━━━━━━━━━━━━━━━━\u001b[0m\u001b[37m\u001b[0m \u001b[1m351s\u001b[0m 2s/step - accuracy: 0.9201 - loss: 0.9772 - val_accuracy: 0.9430 - val_loss: 0.8455\n",
      "Epoch 15/50\n",
      "\u001b[1m158/158\u001b[0m \u001b[32m━━━━━━━━━━━━━━━━━━━━\u001b[0m\u001b[37m\u001b[0m \u001b[1m352s\u001b[0m 2s/step - accuracy: 0.9349 - loss: 0.8928 - val_accuracy: 0.9367 - val_loss: 0.7691\n",
      "Epoch 16/50\n",
      "\u001b[1m158/158\u001b[0m \u001b[32m━━━━━━━━━━━━━━━━━━━━\u001b[0m\u001b[37m\u001b[0m \u001b[1m352s\u001b[0m 2s/step - accuracy: 0.9459 - loss: 0.7968 - val_accuracy: 0.9114 - val_loss: 0.7806\n",
      "Epoch 17/50\n",
      "\u001b[1m158/158\u001b[0m \u001b[32m━━━━━━━━━━━━━━━━━━━━\u001b[0m\u001b[37m\u001b[0m \u001b[1m350s\u001b[0m 2s/step - accuracy: 0.9378 - loss: 0.7617 - val_accuracy: 0.9367 - val_loss: 0.6767\n",
      "Epoch 18/50\n",
      "\u001b[1m158/158\u001b[0m \u001b[32m━━━━━━━━━━━━━━━━━━━━\u001b[0m\u001b[37m\u001b[0m \u001b[1m366s\u001b[0m 2s/step - accuracy: 0.9479 - loss: 0.6904 - val_accuracy: 0.9304 - val_loss: 0.6769\n",
      "Epoch 19/50\n",
      "\u001b[1m158/158\u001b[0m \u001b[32m━━━━━━━━━━━━━━━━━━━━\u001b[0m\u001b[37m\u001b[0m \u001b[1m368s\u001b[0m 2s/step - accuracy: 0.9534 - loss: 0.6554 - val_accuracy: 0.9272 - val_loss: 0.6222\n",
      "Epoch 20/50\n",
      "\u001b[1m158/158\u001b[0m \u001b[32m━━━━━━━━━━━━━━━━━━━━\u001b[0m\u001b[37m\u001b[0m \u001b[1m369s\u001b[0m 2s/step - accuracy: 0.9621 - loss: 0.5935 - val_accuracy: 0.9462 - val_loss: 0.5625\n",
      "Epoch 21/50\n",
      "\u001b[1m158/158\u001b[0m \u001b[32m━━━━━━━━━━━━━━━━━━━━\u001b[0m\u001b[37m\u001b[0m \u001b[1m363s\u001b[0m 2s/step - accuracy: 0.9520 - loss: 0.5741 - val_accuracy: 0.8829 - val_loss: 0.6383\n",
      "Epoch 22/50\n",
      "\u001b[1m158/158\u001b[0m \u001b[32m━━━━━━━━━━━━━━━━━━━━\u001b[0m\u001b[37m\u001b[0m \u001b[1m353s\u001b[0m 2s/step - accuracy: 0.9635 - loss: 0.5497 - val_accuracy: 0.9367 - val_loss: 0.5528\n",
      "Epoch 23/50\n",
      "\u001b[1m158/158\u001b[0m \u001b[32m━━━━━━━━━━━━━━━━━━━━\u001b[0m\u001b[37m\u001b[0m \u001b[1m362s\u001b[0m 2s/step - accuracy: 0.9679 - loss: 0.5248 - val_accuracy: 0.9462 - val_loss: 0.5049\n",
      "Epoch 24/50\n",
      "\u001b[1m158/158\u001b[0m \u001b[32m━━━━━━━━━━━━━━━━━━━━\u001b[0m\u001b[37m\u001b[0m \u001b[1m357s\u001b[0m 2s/step - accuracy: 0.9716 - loss: 0.5111 - val_accuracy: 0.9525 - val_loss: 0.4756\n",
      "Epoch 25/50\n",
      "\u001b[1m158/158\u001b[0m \u001b[32m━━━━━━━━━━━━━━━━━━━━\u001b[0m\u001b[37m\u001b[0m \u001b[1m357s\u001b[0m 2s/step - accuracy: 0.9740 - loss: 0.4732 - val_accuracy: 0.9272 - val_loss: 0.5120\n",
      "Epoch 26/50\n",
      "\u001b[1m158/158\u001b[0m \u001b[32m━━━━━━━━━━━━━━━━━━━━\u001b[0m\u001b[37m\u001b[0m \u001b[1m354s\u001b[0m 2s/step - accuracy: 0.9801 - loss: 0.4514 - val_accuracy: 0.9177 - val_loss: 0.5305\n",
      "Epoch 27/50\n",
      "\u001b[1m158/158\u001b[0m \u001b[32m━━━━━━━━━━━━━━━━━━━━\u001b[0m\u001b[37m\u001b[0m \u001b[1m352s\u001b[0m 2s/step - accuracy: 0.9665 - loss: 0.4653 - val_accuracy: 0.9082 - val_loss: 0.5418\n",
      "Epoch 28/50\n",
      "\u001b[1m158/158\u001b[0m \u001b[32m━━━━━━━━━━━━━━━━━━━━\u001b[0m\u001b[37m\u001b[0m \u001b[1m357s\u001b[0m 2s/step - accuracy: 0.9750 - loss: 0.4284 - val_accuracy: 0.9620 - val_loss: 0.4563\n",
      "Epoch 29/50\n",
      "\u001b[1m158/158\u001b[0m \u001b[32m━━━━━━━━━━━━━━━━━━━━\u001b[0m\u001b[37m\u001b[0m \u001b[1m400s\u001b[0m 3s/step - accuracy: 0.9832 - loss: 0.4160 - val_accuracy: 0.9589 - val_loss: 0.4465\n",
      "Epoch 30/50\n",
      "\u001b[1m158/158\u001b[0m \u001b[32m━━━━━━━━━━━━━━━━━━━━\u001b[0m\u001b[37m\u001b[0m \u001b[1m412s\u001b[0m 3s/step - accuracy: 0.9739 - loss: 0.4270 - val_accuracy: 0.9525 - val_loss: 0.4274\n",
      "Epoch 31/50\n",
      "\u001b[1m158/158\u001b[0m \u001b[32m━━━━━━━━━━━━━━━━━━━━\u001b[0m\u001b[37m\u001b[0m \u001b[1m368s\u001b[0m 2s/step - accuracy: 0.9727 - loss: 0.4194 - val_accuracy: 0.9525 - val_loss: 0.4104\n",
      "Epoch 32/50\n",
      "\u001b[1m158/158\u001b[0m \u001b[32m━━━━━━━━━━━━━━━━━━━━\u001b[0m\u001b[37m\u001b[0m \u001b[1m362s\u001b[0m 2s/step - accuracy: 0.9795 - loss: 0.4188 - val_accuracy: 0.9652 - val_loss: 0.3856\n",
      "Epoch 33/50\n",
      "\u001b[1m158/158\u001b[0m \u001b[32m━━━━━━━━━━━━━━━━━━━━\u001b[0m\u001b[37m\u001b[0m \u001b[1m362s\u001b[0m 2s/step - accuracy: 0.9776 - loss: 0.4046 - val_accuracy: 0.9620 - val_loss: 0.3909\n",
      "Epoch 34/50\n",
      "\u001b[1m158/158\u001b[0m \u001b[32m━━━━━━━━━━━━━━━━━━━━\u001b[0m\u001b[37m\u001b[0m \u001b[1m362s\u001b[0m 2s/step - accuracy: 0.9825 - loss: 0.3881 - val_accuracy: 0.9335 - val_loss: 0.4390\n",
      "Epoch 35/50\n",
      "\u001b[1m158/158\u001b[0m \u001b[32m━━━━━━━━━━━━━━━━━━━━\u001b[0m\u001b[37m\u001b[0m \u001b[1m367s\u001b[0m 2s/step - accuracy: 0.9678 - loss: 0.4006 - val_accuracy: 0.9589 - val_loss: 0.4020\n",
      "Epoch 36/50\n",
      "\u001b[1m158/158\u001b[0m \u001b[32m━━━━━━━━━━━━━━━━━━━━\u001b[0m\u001b[37m\u001b[0m \u001b[1m20608s\u001b[0m 131s/step - accuracy: 0.9824 - loss: 0.3588 - val_accuracy: 0.9684 - val_loss: 0.3839\n",
      "Epoch 37/50\n",
      "\u001b[1m158/158\u001b[0m \u001b[32m━━━━━━━━━━━━━━━━━━━━\u001b[0m\u001b[37m\u001b[0m \u001b[1m333s\u001b[0m 2s/step - accuracy: 0.9795 - loss: 0.3595 - val_accuracy: 0.9589 - val_loss: 0.3746\n",
      "Epoch 38/50\n",
      "\u001b[1m158/158\u001b[0m \u001b[32m━━━━━━━━━━━━━━━━━━━━\u001b[0m\u001b[37m\u001b[0m \u001b[1m326s\u001b[0m 2s/step - accuracy: 0.9755 - loss: 0.3614 - val_accuracy: 0.9525 - val_loss: 0.3761\n",
      "Epoch 39/50\n",
      "\u001b[1m158/158\u001b[0m \u001b[32m━━━━━━━━━━━━━━━━━━━━\u001b[0m\u001b[37m\u001b[0m \u001b[1m323s\u001b[0m 2s/step - accuracy: 0.9852 - loss: 0.3333 - val_accuracy: 0.9462 - val_loss: 0.4318\n",
      "Epoch 40/50\n",
      "\u001b[1m158/158\u001b[0m \u001b[32m━━━━━━━━━━━━━━━━━━━━\u001b[0m\u001b[37m\u001b[0m \u001b[1m386s\u001b[0m 2s/step - accuracy: 0.9731 - loss: 0.3582 - val_accuracy: 0.9462 - val_loss: 0.4379\n",
      "Epoch 41/50\n",
      "\u001b[1m158/158\u001b[0m \u001b[32m━━━━━━━━━━━━━━━━━━━━\u001b[0m\u001b[37m\u001b[0m \u001b[1m392s\u001b[0m 2s/step - accuracy: 0.9595 - loss: 0.3678 - val_accuracy: 0.9367 - val_loss: 0.4275\n",
      "Epoch 42/50\n",
      "\u001b[1m158/158\u001b[0m \u001b[32m━━━━━━━━━━━━━━━━━━━━\u001b[0m\u001b[37m\u001b[0m \u001b[1m332s\u001b[0m 2s/step - accuracy: 0.9780 - loss: 0.3499 - val_accuracy: 0.9209 - val_loss: 0.4346\n",
      "Epoch 43/50\n",
      "\u001b[1m158/158\u001b[0m \u001b[32m━━━━━━━━━━━━━━━━━━━━\u001b[0m\u001b[37m\u001b[0m \u001b[1m327s\u001b[0m 2s/step - accuracy: 0.9638 - loss: 0.3515 - val_accuracy: 0.9525 - val_loss: 0.3625\n",
      "Epoch 44/50\n",
      "\u001b[1m158/158\u001b[0m \u001b[32m━━━━━━━━━━━━━━━━━━━━\u001b[0m\u001b[37m\u001b[0m \u001b[1m340s\u001b[0m 2s/step - accuracy: 0.9751 - loss: 0.3347 - val_accuracy: 0.9430 - val_loss: 0.3524\n",
      "Epoch 45/50\n",
      "\u001b[1m158/158\u001b[0m \u001b[32m━━━━━━━━━━━━━━━━━━━━\u001b[0m\u001b[37m\u001b[0m \u001b[1m329s\u001b[0m 2s/step - accuracy: 0.9756 - loss: 0.3385 - val_accuracy: 0.9494 - val_loss: 0.3558\n",
      "Epoch 46/50\n",
      "\u001b[1m158/158\u001b[0m \u001b[32m━━━━━━━━━━━━━━━━━━━━\u001b[0m\u001b[37m\u001b[0m \u001b[1m10969s\u001b[0m 70s/step - accuracy: 0.9775 - loss: 0.3204 - val_accuracy: 0.9462 - val_loss: 0.4129\n",
      "Epoch 47/50\n",
      "\u001b[1m158/158\u001b[0m \u001b[32m━━━━━━━━━━━━━━━━━━━━\u001b[0m\u001b[37m\u001b[0m \u001b[1m354s\u001b[0m 2s/step - accuracy: 0.9876 - loss: 0.2997 - val_accuracy: 0.9399 - val_loss: 0.3858\n",
      "Epoch 48/50\n",
      "\u001b[1m158/158\u001b[0m \u001b[32m━━━━━━━━━━━━━━━━━━━━\u001b[0m\u001b[37m\u001b[0m \u001b[1m345s\u001b[0m 2s/step - accuracy: 0.9776 - loss: 0.3130 - val_accuracy: 0.9494 - val_loss: 0.3610\n",
      "Epoch 49/50\n",
      "\u001b[1m158/158\u001b[0m \u001b[32m━━━━━━━━━━━━━━━━━━━━\u001b[0m\u001b[37m\u001b[0m \u001b[1m349s\u001b[0m 2s/step - accuracy: 0.9777 - loss: 0.3075 - val_accuracy: 0.9494 - val_loss: 0.3771\n",
      "Epoch 50/50\n",
      "\u001b[1m158/158\u001b[0m \u001b[32m━━━━━━━━━━━━━━━━━━━━\u001b[0m\u001b[37m\u001b[0m \u001b[1m361s\u001b[0m 2s/step - accuracy: 0.9818 - loss: 0.2949 - val_accuracy: 0.9494 - val_loss: 0.3513\n"
     ]
    }
   ],
   "source": [
    "epochs = 50   # number of all epochs in training\n",
    "\n",
    "history = model.fit(x= train_gen, epochs= epochs, verbose= 1, validation_data= test_gen, \n",
    "                    validation_steps= None, shuffle= False)"
   ]
  },
  {
   "cell_type": "code",
   "execution_count": 11,
   "id": "2d6bb2aa",
   "metadata": {
    "execution": {
     "iopub.execute_input": "2024-07-24T00:16:55.175793Z",
     "iopub.status.busy": "2024-07-24T00:16:55.175402Z",
     "iopub.status.idle": "2024-07-24T00:17:10.946229Z",
     "shell.execute_reply": "2024-07-24T00:17:10.945280Z"
    },
    "papermill": {
     "duration": 16.420869,
     "end_time": "2024-07-24T00:17:10.948213",
     "exception": false,
     "start_time": "2024-07-24T00:16:54.527344",
     "status": "completed"
    },
    "tags": []
   },
   "outputs": [
    {
     "name": "stdout",
     "output_type": "stream",
     "text": [
      "\u001b[1m158/158\u001b[0m \u001b[32m━━━━━━━━━━━━━━━━━━━━\u001b[0m\u001b[37m\u001b[0m \u001b[1m69s\u001b[0m 435ms/step - accuracy: 0.9987 - loss: 0.2094\n",
      "\u001b[1m40/40\u001b[0m \u001b[32m━━━━━━━━━━━━━━━━━━━━\u001b[0m\u001b[37m\u001b[0m \u001b[1m19s\u001b[0m 464ms/step - accuracy: 0.9685 - loss: 0.2987\n",
      "Train Loss:  0.21072281897068024\n",
      "Train Accuracy:  0.999207615852356\n",
      "--------------------\n",
      "Test Loss:  0.35125496983528137\n",
      "Test Accuracy:  0.949367105960846\n"
     ]
    }
   ],
   "source": [
    "train_score = model.evaluate(train_gen, verbose= 1)\n",
    "test_score = model.evaluate(test_gen, verbose= 1)\n",
    "\n",
    "print(\"Train Loss: \", train_score[0])\n",
    "print(\"Train Accuracy: \", train_score[1])\n",
    "print('-' * 20)\n",
    "print(\"Test Loss: \", test_score[0])\n",
    "print(\"Test Accuracy: \", test_score[1])"
   ]
  },
  {
   "cell_type": "code",
   "execution_count": 12,
   "id": "d6c21fb2",
   "metadata": {
    "execution": {
     "iopub.execute_input": "2024-07-24T00:17:12.321724Z",
     "iopub.status.busy": "2024-07-24T00:17:12.320974Z",
     "iopub.status.idle": "2024-07-24T00:17:31.391307Z",
     "shell.execute_reply": "2024-07-24T00:17:31.390308Z"
    },
    "papermill": {
     "duration": 19.782883,
     "end_time": "2024-07-24T00:17:31.393537",
     "exception": false,
     "start_time": "2024-07-24T00:17:11.610654",
     "status": "completed"
    },
    "tags": []
   },
   "outputs": [
    {
     "name": "stdout",
     "output_type": "stream",
     "text": [
      "\u001b[1m40/40\u001b[0m \u001b[32m━━━━━━━━━━━━━━━━━━━━\u001b[0m\u001b[37m\u001b[0m \u001b[1m28s\u001b[0m 555ms/step\n"
     ]
    }
   ],
   "source": [
    "preds = model.predict(test_gen)\n",
    "y_pred = np.argmax(preds, axis=1)"
   ]
  },
  {
   "cell_type": "code",
   "execution_count": 13,
   "id": "9090026b",
   "metadata": {
    "execution": {
     "iopub.execute_input": "2024-07-24T00:17:32.710913Z",
     "iopub.status.busy": "2024-07-24T00:17:32.709998Z",
     "iopub.status.idle": "2024-07-24T00:17:33.204439Z",
     "shell.execute_reply": "2024-07-24T00:17:33.203534Z"
    },
    "papermill": {
     "duration": 1.152692,
     "end_time": "2024-07-24T00:17:33.206419",
     "exception": false,
     "start_time": "2024-07-24T00:17:32.053727",
     "status": "completed"
    },
    "tags": []
   },
   "outputs": [
    {
     "data": {
      "image/png": "[encoded data removed]",
      "text/plain": [
       "<Figure size 1000x1000 with 2 Axes>"
      ]
     },
     "metadata": {},
     "output_type": "display_data"
    }
   ],
   "source": [
    "g_dict = test_gen.class_indices\n",
    "classes = list(g_dict.keys())\n",
    "\n",
    "# Confusion matrix\n",
    "cm = confusion_matrix(test_gen.classes, y_pred)\n",
    "\n",
    "plt.figure(figsize= (10, 10))\n",
    "plt.imshow(cm, interpolation= 'nearest', cmap= plt.cm.Blues)\n",
    "plt.title('Confusion Matrix')\n",
    "plt.colorbar()\n",
    "\n",
    "tick_marks = np.arange(len(classes))\n",
    "plt.xticks(tick_marks, classes, rotation= 45)\n",
    "plt.yticks(tick_marks, classes)\n",
    "\n",
    "\n",
    "thresh = cm.max() / 2.\n",
    "for i, j in itertools.product(range(cm.shape[0]), range(cm.shape[1])):\n",
    "    plt.text(j, i, cm[i, j], horizontalalignment= 'center', color= 'white' if cm[i, j] > thresh else 'black')\n",
    "\n",
    "plt.tight_layout()\n",
    "plt.ylabel('True Label')\n",
    "plt.xlabel('Predicted Label')\n",
    "\n",
    "plt.show()"
   ]
  },
  {
   "cell_type": "code",
   "execution_count": 14,
   "id": "f51a295b",
   "metadata": {
    "execution": {
     "iopub.execute_input": "2024-07-24T00:17:34.597475Z",
     "iopub.status.busy": "2024-07-24T00:17:34.597094Z",
     "iopub.status.idle": "2024-07-24T00:17:34.611273Z",
     "shell.execute_reply": "2024-07-24T00:17:34.610454Z"
    },
    "papermill": {
     "duration": 0.6814,
     "end_time": "2024-07-24T00:17:34.613170",
     "exception": false,
     "start_time": "2024-07-24T00:17:33.931770",
     "status": "completed"
    },
    "tags": []
   },
   "outputs": [
    {
     "name": "stdout",
     "output_type": "stream",
     "text": [
      "              precision    recall  f1-score   support\n",
      "\n",
      "      benign       0.96      0.97      0.96       179\n",
      "   malignant       0.93      0.94      0.93        84\n",
      "      normal       0.96      0.91      0.93        53\n",
      "\n",
      "    accuracy                           0.95       316\n",
      "   macro avg       0.95      0.94      0.94       316\n",
      "weighted avg       0.95      0.95      0.95       316\n",
      "\n"
     ]
    }
   ],
   "source": [
    "# Classification report\n",
    "print(classification_report(test_gen.classes, y_pred, target_names= classes))"
   ]
  },
  {
   "cell_type": "code",
   "execution_count": 15,
   "id": "16ebaf22",
   "metadata": {
    "execution": {
     "iopub.execute_input": "2024-07-24T00:17:35.981090Z",
     "iopub.status.busy": "2024-07-24T00:17:35.980710Z",
     "iopub.status.idle": "2024-07-24T00:17:37.149744Z",
     "shell.execute_reply": "2024-07-24T00:17:37.148897Z"
    },
    "papermill": {
     "duration": 1.881718,
     "end_time": "2024-07-24T00:17:37.152269",
     "exception": false,
     "start_time": "2024-07-24T00:17:35.270551",
     "status": "completed"
    },
    "tags": []
   },
   "outputs": [
    {
     "name": "stderr",
     "output_type": "stream",
     "text": [
      "WARNING:absl:You are saving your model as an HDF5 file via `model.save()` or `keras.saving.save_model(model)`. This file format is considered legacy. We recommend using instead the native Keras format, e.g. `model.save('my_model.keras')` or `keras.saving.save_model(model, 'my_model.keras')`. \n"
     ]
    }
   ],
   "source": [
    "#Save the model\n",
    "model.save('Model.h5')"
   ]
  }
 ],
 "metadata": {
  "kaggle": {
   "accelerator": "gpu",
   "dataSources": [
    {
     "datasetId": 1209633,
     "sourceId": 2021025,
     "sourceType": "datasetVersion"
    }
   ],
   "dockerImageVersionId": 30747,
   "isGpuEnabled": true,
   "isInternetEnabled": true,
   "language": "python",
   "sourceType": "notebook"
  },
  "kernelspec": {
   "display_name": "Python 3",
   "language": "python",
   "name": "python3"
  },
  "language_info": {
   "codemirror_mode": {
    "name": "ipython",
    "version": 3
   },
   "file_extension": ".py",
   "mimetype": "text/x-python",
   "name": "python",
   "nbconvert_exporter": "python",
   "pygments_lexer": "ipython3",
   "version": "3.12.3"
  },
  "papermill": {
   "default_parameters": {},
   "duration": 1165.964559,
   "end_time": "2024-07-24T00:17:41.325132",
   "environment_variables": {},
   "exception": null,
   "input_path": "__notebook__.ipynb",
   "output_path": "__notebook__.ipynb",
   "parameters": {},
   "start_time": "2024-07-23T23:58:15.360573",
   "version": "2.5.0"
  }
 },
 "nbformat": 4,
 "nbformat_minor": 5
}
