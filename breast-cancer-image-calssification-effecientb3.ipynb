{
 "cells": [
  {
   "cell_type": "code",
   "execution_count": 1,
   "id": "2a260585",
   "metadata": {
    "_cell_guid": "b1076dfc-b9ad-4769-8c92-a6c4dae69d19",
    "_uuid": "8f2839f25d086af736a60e9eeb907d3b93b6e0e5",
    "execution": {
     "iopub.execute_input": "2024-07-23T23:58:18.199184Z",
     "iopub.status.busy": "2024-07-23T23:58:18.198802Z",
     "iopub.status.idle": "2024-07-23T23:58:32.407260Z",
     "shell.execute_reply": "2024-07-23T23:58:32.406039Z"
    },
    "papermill": {
     "duration": 14.216816,
     "end_time": "2024-07-23T23:58:32.409498",
     "exception": false,
     "start_time": "2024-07-23T23:58:18.192682",
     "status": "completed"
    },
    "tags": []
   },
   "outputs": [
    {
     "name": "stderr",
     "output_type": "stream",
     "text": [
      "2024-07-23 23:58:20.980375: E external/local_xla/xla/stream_executor/cuda/cuda_dnn.cc:9261] Unable to register cuDNN factory: Attempting to register factory for plugin cuDNN when one has already been registered\n",
      "2024-07-23 23:58:20.980482: E external/local_xla/xla/stream_executor/cuda/cuda_fft.cc:607] Unable to register cuFFT factory: Attempting to register factory for plugin cuFFT when one has already been registered\n",
      "2024-07-23 23:58:21.121222: E external/local_xla/xla/stream_executor/cuda/cuda_blas.cc:1515] Unable to register cuBLAS factory: Attempting to register factory for plugin cuBLAS when one has already been registered\n"
     ]
    },
    {
     "name": "stdout",
     "output_type": "stream",
     "text": [
      "modules loaded\n"
     ]
    }
   ],
   "source": [
    "# import system libs\n",
    "import os\n",
    "import time\n",
    "import shutil\n",
    "import pathlib\n",
    "import itertools\n",
    "from PIL import Image\n",
    "import cv2\n",
    "import numpy as np\n",
    "import pandas as pd\n",
    "# import Deep learning Libraries\n",
    "import tensorflow as tf\n",
    "from tensorflow import keras\n",
    "from tensorflow.keras.models import Sequential\n",
    "from tensorflow.keras.optimizers import Adam, Adamax\n",
    "from tensorflow.keras.preprocessing.image import ImageDataGenerator\n",
    "from tensorflow.keras.layers import Conv2D, MaxPooling2D, Flatten, Dense, Activation, Dropout, BatchNormalization\n",
    "from tensorflow.keras import regularizers\n",
    "\n",
    "import seaborn as sns\n",
    "sns.set_style('darkgrid')\n",
    "import matplotlib.pyplot as plt\n",
    "from sklearn.model_selection import train_test_split\n",
    "from sklearn.metrics import confusion_matrix, classification_report\n",
    "\n",
    "# Ignore Warnings\n",
    "import warnings\n",
    "warnings.filterwarnings(\"ignore\")\n",
    "\n",
    "print ('modules loaded')"
   ]
  },
  {
   "cell_type": "code",
   "execution_count": 2,
   "id": "e94b1d22",
   "metadata": {
    "execution": {
     "iopub.execute_input": "2024-07-23T23:58:32.430083Z",
     "iopub.status.busy": "2024-07-23T23:58:32.429376Z",
     "iopub.status.idle": "2024-07-23T23:58:32.831695Z",
     "shell.execute_reply": "2024-07-23T23:58:32.830749Z"
    },
    "papermill": {
     "duration": 0.410454,
     "end_time": "2024-07-23T23:58:32.834039",
     "exception": false,
     "start_time": "2024-07-23T23:58:32.423585",
     "status": "completed"
    },
    "tags": []
   },
   "outputs": [],
   "source": [
    "# Generate data paths with labels\n",
    "data_dir = '/kaggle/input/breast-ultrasound-images-dataset/Dataset_BUSI_with_GT'\n",
    "filepaths = []\n",
    "labels = []\n",
    "\n",
    "folds = os.listdir(data_dir)\n",
    "for fold in folds:\n",
    "    foldpath = os.path.join(data_dir, fold)\n",
    "    filelist = os.listdir(foldpath)\n",
    "    for file in filelist:\n",
    "        fpath = os.path.join(foldpath, file)\n",
    "        \n",
    "        filepaths.append(fpath)\n",
    "        labels.append(fold)\n",
    "        \n",
    "# Concatenate data paths with labels into one dataframe\n",
    "Fseries = pd.Series(filepaths, name= 'filepaths')\n",
    "Lseries = pd.Series(labels, name='labels')\n",
    "df = pd.concat([Fseries, Lseries], axis= 1)"
   ]
  },
  {
   "cell_type": "code",
   "execution_count": 3,
   "id": "9b2ffabc",
   "metadata": {
    "execution": {
     "iopub.execute_input": "2024-07-23T23:58:32.844602Z",
     "iopub.status.busy": "2024-07-23T23:58:32.844273Z",
     "iopub.status.idle": "2024-07-23T23:58:32.863320Z",
     "shell.execute_reply": "2024-07-23T23:58:32.862461Z"
    },
    "papermill": {
     "duration": 0.026572,
     "end_time": "2024-07-23T23:58:32.865304",
     "exception": false,
     "start_time": "2024-07-23T23:58:32.838732",
     "status": "completed"
    },
    "tags": []
   },
   "outputs": [
    {
     "data": {
      "text/html": [
       "<div>\n",
       "<style scoped>\n",
       "    .dataframe tbody tr th:only-of-type {\n",
       "        vertical-align: middle;\n",
       "    }\n",
       "\n",
       "    .dataframe tbody tr th {\n",
       "        vertical-align: top;\n",
       "    }\n",
       "\n",
       "    .dataframe thead th {\n",
       "        text-align: right;\n",
       "    }\n",
       "</style>\n",
       "<table border=\"1\" class=\"dataframe\">\n",
       "  <thead>\n",
       "    <tr style=\"text-align: right;\">\n",
       "      <th></th>\n",
       "      <th>filepaths</th>\n",
       "      <th>labels</th>\n",
       "    </tr>\n",
       "  </thead>\n",
       "  <tbody>\n",
       "    <tr>\n",
       "      <th>0</th>\n",
       "      <td>/kaggle/input/breast-ultrasound-images-dataset...</td>\n",
       "      <td>benign</td>\n",
       "    </tr>\n",
       "    <tr>\n",
       "      <th>1</th>\n",
       "      <td>/kaggle/input/breast-ultrasound-images-dataset...</td>\n",
       "      <td>benign</td>\n",
       "    </tr>\n",
       "    <tr>\n",
       "      <th>2</th>\n",
       "      <td>/kaggle/input/breast-ultrasound-images-dataset...</td>\n",
       "      <td>benign</td>\n",
       "    </tr>\n",
       "    <tr>\n",
       "      <th>3</th>\n",
       "      <td>/kaggle/input/breast-ultrasound-images-dataset...</td>\n",
       "      <td>benign</td>\n",
       "    </tr>\n",
       "    <tr>\n",
       "      <th>4</th>\n",
       "      <td>/kaggle/input/breast-ultrasound-images-dataset...</td>\n",
       "      <td>benign</td>\n",
       "    </tr>\n",
       "    <tr>\n",
       "      <th>...</th>\n",
       "      <td>...</td>\n",
       "      <td>...</td>\n",
       "    </tr>\n",
       "    <tr>\n",
       "      <th>1573</th>\n",
       "      <td>/kaggle/input/breast-ultrasound-images-dataset...</td>\n",
       "      <td>malignant</td>\n",
       "    </tr>\n",
       "    <tr>\n",
       "      <th>1574</th>\n",
       "      <td>/kaggle/input/breast-ultrasound-images-dataset...</td>\n",
       "      <td>malignant</td>\n",
       "    </tr>\n",
       "    <tr>\n",
       "      <th>1575</th>\n",
       "      <td>/kaggle/input/breast-ultrasound-images-dataset...</td>\n",
       "      <td>malignant</td>\n",
       "    </tr>\n",
       "    <tr>\n",
       "      <th>1576</th>\n",
       "      <td>/kaggle/input/breast-ultrasound-images-dataset...</td>\n",
       "      <td>malignant</td>\n",
       "    </tr>\n",
       "    <tr>\n",
       "      <th>1577</th>\n",
       "      <td>/kaggle/input/breast-ultrasound-images-dataset...</td>\n",
       "      <td>malignant</td>\n",
       "    </tr>\n",
       "  </tbody>\n",
       "</table>\n",
       "<p>1578 rows × 2 columns</p>\n",
       "</div>"
      ],
      "text/plain": [
       "                                              filepaths     labels\n",
       "0     /kaggle/input/breast-ultrasound-images-dataset...     benign\n",
       "1     /kaggle/input/breast-ultrasound-images-dataset...     benign\n",
       "2     /kaggle/input/breast-ultrasound-images-dataset...     benign\n",
       "3     /kaggle/input/breast-ultrasound-images-dataset...     benign\n",
       "4     /kaggle/input/breast-ultrasound-images-dataset...     benign\n",
       "...                                                 ...        ...\n",
       "1573  /kaggle/input/breast-ultrasound-images-dataset...  malignant\n",
       "1574  /kaggle/input/breast-ultrasound-images-dataset...  malignant\n",
       "1575  /kaggle/input/breast-ultrasound-images-dataset...  malignant\n",
       "1576  /kaggle/input/breast-ultrasound-images-dataset...  malignant\n",
       "1577  /kaggle/input/breast-ultrasound-images-dataset...  malignant\n",
       "\n",
       "[1578 rows x 2 columns]"
      ]
     },
     "execution_count": 3,
     "metadata": {},
     "output_type": "execute_result"
    }
   ],
   "source": [
    "df"
   ]
  },
  {
   "cell_type": "code",
   "execution_count": 4,
   "id": "238c0c84",
   "metadata": {
    "execution": {
     "iopub.execute_input": "2024-07-23T23:58:32.875690Z",
     "iopub.status.busy": "2024-07-23T23:58:32.875403Z",
     "iopub.status.idle": "2024-07-23T23:58:32.887765Z",
     "shell.execute_reply": "2024-07-23T23:58:32.886811Z"
    },
    "papermill": {
     "duration": 0.019791,
     "end_time": "2024-07-23T23:58:32.889773",
     "exception": false,
     "start_time": "2024-07-23T23:58:32.869982",
     "status": "completed"
    },
    "tags": []
   },
   "outputs": [],
   "source": [
    "strat = df['labels']\n",
    "train_df, test_df = train_test_split(df,  train_size= 0.8, shuffle= True, random_state= 123, stratify= strat)"
   ]
  },
  {
   "cell_type": "code",
   "execution_count": 5,
   "id": "f868a612",
   "metadata": {
    "execution": {
     "iopub.execute_input": "2024-07-23T23:58:32.900451Z",
     "iopub.status.busy": "2024-07-23T23:58:32.900148Z",
     "iopub.status.idle": "2024-07-23T23:58:32.910433Z",
     "shell.execute_reply": "2024-07-23T23:58:32.909567Z"
    },
    "papermill": {
     "duration": 0.017959,
     "end_time": "2024-07-23T23:58:32.912541",
     "exception": false,
     "start_time": "2024-07-23T23:58:32.894582",
     "status": "completed"
    },
    "tags": []
   },
   "outputs": [
    {
     "data": {
      "text/html": [
       "<div>\n",
       "<style scoped>\n",
       "    .dataframe tbody tr th:only-of-type {\n",
       "        vertical-align: middle;\n",
       "    }\n",
       "\n",
       "    .dataframe tbody tr th {\n",
       "        vertical-align: top;\n",
       "    }\n",
       "\n",
       "    .dataframe thead th {\n",
       "        text-align: right;\n",
       "    }\n",
       "</style>\n",
       "<table border=\"1\" class=\"dataframe\">\n",
       "  <thead>\n",
       "    <tr style=\"text-align: right;\">\n",
       "      <th></th>\n",
       "      <th>filepaths</th>\n",
       "      <th>labels</th>\n",
       "    </tr>\n",
       "  </thead>\n",
       "  <tbody>\n",
       "    <tr>\n",
       "      <th>1024</th>\n",
       "      <td>/kaggle/input/breast-ultrasound-images-dataset...</td>\n",
       "      <td>normal</td>\n",
       "    </tr>\n",
       "    <tr>\n",
       "      <th>215</th>\n",
       "      <td>/kaggle/input/breast-ultrasound-images-dataset...</td>\n",
       "      <td>benign</td>\n",
       "    </tr>\n",
       "    <tr>\n",
       "      <th>106</th>\n",
       "      <td>/kaggle/input/breast-ultrasound-images-dataset...</td>\n",
       "      <td>benign</td>\n",
       "    </tr>\n",
       "    <tr>\n",
       "      <th>339</th>\n",
       "      <td>/kaggle/input/breast-ultrasound-images-dataset...</td>\n",
       "      <td>benign</td>\n",
       "    </tr>\n",
       "    <tr>\n",
       "      <th>305</th>\n",
       "      <td>/kaggle/input/breast-ultrasound-images-dataset...</td>\n",
       "      <td>benign</td>\n",
       "    </tr>\n",
       "    <tr>\n",
       "      <th>...</th>\n",
       "      <td>...</td>\n",
       "      <td>...</td>\n",
       "    </tr>\n",
       "    <tr>\n",
       "      <th>1444</th>\n",
       "      <td>/kaggle/input/breast-ultrasound-images-dataset...</td>\n",
       "      <td>malignant</td>\n",
       "    </tr>\n",
       "    <tr>\n",
       "      <th>1413</th>\n",
       "      <td>/kaggle/input/breast-ultrasound-images-dataset...</td>\n",
       "      <td>malignant</td>\n",
       "    </tr>\n",
       "    <tr>\n",
       "      <th>460</th>\n",
       "      <td>/kaggle/input/breast-ultrasound-images-dataset...</td>\n",
       "      <td>benign</td>\n",
       "    </tr>\n",
       "    <tr>\n",
       "      <th>1109</th>\n",
       "      <td>/kaggle/input/breast-ultrasound-images-dataset...</td>\n",
       "      <td>normal</td>\n",
       "    </tr>\n",
       "    <tr>\n",
       "      <th>222</th>\n",
       "      <td>/kaggle/input/breast-ultrasound-images-dataset...</td>\n",
       "      <td>benign</td>\n",
       "    </tr>\n",
       "  </tbody>\n",
       "</table>\n",
       "<p>316 rows × 2 columns</p>\n",
       "</div>"
      ],
      "text/plain": [
       "                                              filepaths     labels\n",
       "1024  /kaggle/input/breast-ultrasound-images-dataset...     normal\n",
       "215   /kaggle/input/breast-ultrasound-images-dataset...     benign\n",
       "106   /kaggle/input/breast-ultrasound-images-dataset...     benign\n",
       "339   /kaggle/input/breast-ultrasound-images-dataset...     benign\n",
       "305   /kaggle/input/breast-ultrasound-images-dataset...     benign\n",
       "...                                                 ...        ...\n",
       "1444  /kaggle/input/breast-ultrasound-images-dataset...  malignant\n",
       "1413  /kaggle/input/breast-ultrasound-images-dataset...  malignant\n",
       "460   /kaggle/input/breast-ultrasound-images-dataset...     benign\n",
       "1109  /kaggle/input/breast-ultrasound-images-dataset...     normal\n",
       "222   /kaggle/input/breast-ultrasound-images-dataset...     benign\n",
       "\n",
       "[316 rows x 2 columns]"
      ]
     },
     "execution_count": 5,
     "metadata": {},
     "output_type": "execute_result"
    }
   ],
   "source": [
    "test_df"
   ]
  },
  {
   "cell_type": "code",
   "execution_count": 6,
   "id": "da4f0262",
   "metadata": {
    "execution": {
     "iopub.execute_input": "2024-07-23T23:58:32.925119Z",
     "iopub.status.busy": "2024-07-23T23:58:32.924288Z",
     "iopub.status.idle": "2024-07-23T23:58:33.169541Z",
     "shell.execute_reply": "2024-07-23T23:58:33.168664Z"
    },
    "papermill": {
     "duration": 0.253629,
     "end_time": "2024-07-23T23:58:33.171619",
     "exception": false,
     "start_time": "2024-07-23T23:58:32.917990",
     "status": "completed"
    },
    "tags": []
   },
   "outputs": [
    {
     "name": "stdout",
     "output_type": "stream",
     "text": [
      "Found 1262 validated image filenames belonging to 3 classes.\n",
      "Found 316 validated image filenames belonging to 3 classes.\n"
     ]
    }
   ],
   "source": [
    "# crobed image size\n",
    "batch_size = 8\n",
    "img_size = (224, 224)\n",
    "channels = 3\n",
    "img_shape = (img_size[0], img_size[1], channels)\n",
    "\n",
    "tr_gen = ImageDataGenerator()\n",
    "ts_gen = ImageDataGenerator()\n",
    "\n",
    "train_gen = tr_gen.flow_from_dataframe( train_df, x_col= 'filepaths', y_col= 'labels', target_size= img_size, class_mode= 'categorical',\n",
    "                                    color_mode= 'rgb', shuffle= True, batch_size= batch_size)\n",
    "\n",
    "test_gen = ts_gen.flow_from_dataframe( test_df, x_col= 'filepaths', y_col= 'labels', target_size= img_size, class_mode= 'categorical',\n",
    "                                    color_mode= 'rgb', shuffle= False, batch_size= batch_size)"
   ]
  },
  {
   "cell_type": "code",
   "execution_count": 7,
   "id": "fc41c738",
   "metadata": {
    "execution": {
     "iopub.execute_input": "2024-07-23T23:58:33.183450Z",
     "iopub.status.busy": "2024-07-23T23:58:33.183156Z",
     "iopub.status.idle": "2024-07-23T23:58:38.685184Z",
     "shell.execute_reply": "2024-07-23T23:58:38.684314Z"
    },
    "papermill": {
     "duration": 5.510364,
     "end_time": "2024-07-23T23:58:38.687548",
     "exception": false,
     "start_time": "2024-07-23T23:58:33.177184",
     "status": "completed"
    },
    "tags": []
   },
   "outputs": [
    {
     "name": "stdout",
     "output_type": "stream",
     "text": [
      "Downloading data from https://storage.googleapis.com/keras-applications/efficientnetb3_notop.h5\n",
      "\u001b[1m43941136/43941136\u001b[0m \u001b[32m━━━━━━━━━━━━━━━━━━━━\u001b[0m\u001b[37m\u001b[0m \u001b[1m2s\u001b[0m 0us/step\n"
     ]
    }
   ],
   "source": [
    "# Create Model Structure\n",
    "img_size = (224, 224)\n",
    "channels = 3\n",
    "img_shape = (img_size[0], img_size[1], channels)\n",
    "class_count = len(list(train_gen.class_indices.keys())) # to define number of classes in dense layer\n",
    "\n",
    "# create pre-trained model (you can built on pretrained model such as :  efficientnet, VGG , Resnet )\n",
    "# we will use efficientnetb3 from EfficientNet family.\n",
    "base_model = tf.keras.applications.efficientnet.EfficientNetB3(include_top= False, weights= \"imagenet\", \n",
    "                                                               input_shape= img_shape, pooling= 'max')\n",
    "\n",
    "\n",
    "model = Sequential([\n",
    "    base_model,\n",
    "    BatchNormalization(axis= -1, momentum= 0.99, epsilon= 0.001),\n",
    "    Dense(256, kernel_regularizer= regularizers.l2(0.016), activity_regularizer= regularizers.l1(0.006),\n",
    "                bias_regularizer= regularizers.l1(0.006), activation= 'relu'),\n",
    "    Dropout(rate= 0.45, seed= 123),\n",
    "    Dense(class_count, activation= 'softmax')\n",
    "])\n",
    "\n",
    "\n",
    "model.compile(Adamax(learning_rate= 0.001), loss= 'categorical_crossentropy', metrics= ['accuracy'])\n",
    "\n"
   ]
  },
  {
   "cell_type": "code",
   "execution_count": 8,
   "id": "8c015ed7",
   "metadata": {
    "execution": {
     "iopub.execute_input": "2024-07-23T23:58:38.705819Z",
     "iopub.status.busy": "2024-07-23T23:58:38.705245Z",
     "iopub.status.idle": "2024-07-24T00:16:53.808451Z",
     "shell.execute_reply": "2024-07-24T00:16:53.807434Z"
    },
    "papermill": {
     "duration": 1095.114498,
     "end_time": "2024-07-24T00:16:53.810654",
     "exception": false,
     "start_time": "2024-07-23T23:58:38.696156",
     "status": "completed"
    },
    "tags": []
   },
   "outputs": [
    {
     "name": "stdout",
     "output_type": "stream",
     "text": [
      "Epoch 1/50\n"
     ]
    },
    {
     "name": "stderr",
     "output_type": "stream",
     "text": [
      "WARNING: All log messages before absl::InitializeLog() is called are written to STDERR\n",
      "I0000 00:00:1721779265.835629      67 device_compiler.h:186] Compiled cluster using XLA!  This line is logged at most once for the lifetime of the process.\n",
      "W0000 00:00:1721779265.995720      67 graph_launch.cc:671] Fallback to op-by-op mode because memset node breaks graph update\n"
     ]
    },
    {
     "name": "stdout",
     "output_type": "stream",
     "text": [
      "\u001b[1m158/158\u001b[0m \u001b[32m━━━━━━━━━━━━━━━━━━━━\u001b[0m\u001b[37m\u001b[0m \u001b[1m0s\u001b[0m 690ms/step - accuracy: 0.5394 - loss: 12.3137"
     ]
    },
    {
     "name": "stderr",
     "output_type": "stream",
     "text": [
      "W0000 00:00:1721779383.866621      70 graph_launch.cc:671] Fallback to op-by-op mode because memset node breaks graph update\n"
     ]
    },
    {
     "name": "stdout",
     "output_type": "stream",
     "text": [
      "\u001b[1m158/158\u001b[0m \u001b[32m━━━━━━━━━━━━━━━━━━━━\u001b[0m\u001b[37m\u001b[0m \u001b[1m276s\u001b[0m 824ms/step - accuracy: 0.5398 - loss: 12.2998 - val_accuracy: 0.7911 - val_loss: 7.9660\n",
      "Epoch 2/50\n",
      "\u001b[1m158/158\u001b[0m \u001b[32m━━━━━━━━━━━━━━━━━━━━\u001b[0m\u001b[37m\u001b[0m \u001b[1m17s\u001b[0m 106ms/step - accuracy: 0.6737 - loss: 6.8552 - val_accuracy: 0.6899 - val_loss: 6.2893\n",
      "Epoch 3/50\n",
      "\u001b[1m158/158\u001b[0m \u001b[32m━━━━━━━━━━━━━━━━━━━━\u001b[0m\u001b[37m\u001b[0m \u001b[1m17s\u001b[0m 107ms/step - accuracy: 0.6989 - loss: 5.7615 - val_accuracy: 0.6804 - val_loss: 5.2916\n",
      "Epoch 4/50\n",
      "\u001b[1m158/158\u001b[0m \u001b[32m━━━━━━━━━━━━━━━━━━━━\u001b[0m\u001b[37m\u001b[0m \u001b[1m17s\u001b[0m 106ms/step - accuracy: 0.7131 - loss: 4.9324 - val_accuracy: 0.7722 - val_loss: 4.2678\n",
      "Epoch 5/50\n",
      "\u001b[1m158/158\u001b[0m \u001b[32m━━━━━━━━━━━━━━━━━━━━\u001b[0m\u001b[37m\u001b[0m \u001b[1m17s\u001b[0m 107ms/step - accuracy: 0.7091 - loss: 4.1844 - val_accuracy: 0.8323 - val_loss: 3.6322\n",
      "Epoch 6/50\n",
      "\u001b[1m158/158\u001b[0m \u001b[32m━━━━━━━━━━━━━━━━━━━━\u001b[0m\u001b[37m\u001b[0m \u001b[1m17s\u001b[0m 105ms/step - accuracy: 0.7571 - loss: 3.5603 - val_accuracy: 0.8386 - val_loss: 3.1063\n",
      "Epoch 7/50\n",
      "\u001b[1m158/158\u001b[0m \u001b[32m━━━━━━━━━━━━━━━━━━━━\u001b[0m\u001b[37m\u001b[0m \u001b[1m21s\u001b[0m 107ms/step - accuracy: 0.8135 - loss: 2.9639 - val_accuracy: 0.8386 - val_loss: 2.6109\n",
      "Epoch 8/50\n",
      "\u001b[1m158/158\u001b[0m \u001b[32m━━━━━━━━━━━━━━━━━━━━\u001b[0m\u001b[37m\u001b[0m \u001b[1m17s\u001b[0m 106ms/step - accuracy: 0.8093 - loss: 2.5274 - val_accuracy: 0.8513 - val_loss: 2.2768\n",
      "Epoch 9/50\n",
      "\u001b[1m158/158\u001b[0m \u001b[32m━━━━━━━━━━━━━━━━━━━━\u001b[0m\u001b[37m\u001b[0m \u001b[1m17s\u001b[0m 105ms/step - accuracy: 0.8525 - loss: 2.1627 - val_accuracy: 0.8354 - val_loss: 1.9116\n",
      "Epoch 10/50\n",
      "\u001b[1m158/158\u001b[0m \u001b[32m━━━━━━━━━━━━━━━━━━━━\u001b[0m\u001b[37m\u001b[0m \u001b[1m17s\u001b[0m 105ms/step - accuracy: 0.8833 - loss: 1.8244 - val_accuracy: 0.9082 - val_loss: 1.5834\n",
      "Epoch 11/50\n",
      "\u001b[1m158/158\u001b[0m \u001b[32m━━━━━━━━━━━━━━━━━━━━\u001b[0m\u001b[37m\u001b[0m \u001b[1m17s\u001b[0m 105ms/step - accuracy: 0.8829 - loss: 1.5961 - val_accuracy: 0.8956 - val_loss: 1.3626\n",
      "Epoch 12/50\n",
      "\u001b[1m158/158\u001b[0m \u001b[32m━━━━━━━━━━━━━━━━━━━━\u001b[0m\u001b[37m\u001b[0m \u001b[1m17s\u001b[0m 105ms/step - accuracy: 0.8806 - loss: 1.3843 - val_accuracy: 0.9114 - val_loss: 1.1911\n",
      "Epoch 13/50\n",
      "\u001b[1m158/158\u001b[0m \u001b[32m━━━━━━━━━━━━━━━━━━━━\u001b[0m\u001b[37m\u001b[0m \u001b[1m17s\u001b[0m 104ms/step - accuracy: 0.9066 - loss: 1.1807 - val_accuracy: 0.9272 - val_loss: 1.0411\n",
      "Epoch 14/50\n",
      "\u001b[1m158/158\u001b[0m \u001b[32m━━━━━━━━━━━━━━━━━━━━\u001b[0m\u001b[37m\u001b[0m \u001b[1m17s\u001b[0m 105ms/step - accuracy: 0.9206 - loss: 1.0395 - val_accuracy: 0.8418 - val_loss: 0.9834\n",
      "Epoch 15/50\n",
      "\u001b[1m158/158\u001b[0m \u001b[32m━━━━━━━━━━━━━━━━━━━━\u001b[0m\u001b[37m\u001b[0m \u001b[1m17s\u001b[0m 105ms/step - accuracy: 0.9228 - loss: 0.9562 - val_accuracy: 0.9367 - val_loss: 0.8670\n",
      "Epoch 16/50\n",
      "\u001b[1m158/158\u001b[0m \u001b[32m━━━━━━━━━━━━━━━━━━━━\u001b[0m\u001b[37m\u001b[0m \u001b[1m17s\u001b[0m 105ms/step - accuracy: 0.9431 - loss: 0.8229 - val_accuracy: 0.9335 - val_loss: 0.7901\n",
      "Epoch 17/50\n",
      "\u001b[1m158/158\u001b[0m \u001b[32m━━━━━━━━━━━━━━━━━━━━\u001b[0m\u001b[37m\u001b[0m \u001b[1m17s\u001b[0m 105ms/step - accuracy: 0.9455 - loss: 0.7596 - val_accuracy: 0.9051 - val_loss: 0.7430\n",
      "Epoch 18/50\n",
      "\u001b[1m158/158\u001b[0m \u001b[32m━━━━━━━━━━━━━━━━━━━━\u001b[0m\u001b[37m\u001b[0m \u001b[1m17s\u001b[0m 106ms/step - accuracy: 0.9425 - loss: 0.6984 - val_accuracy: 0.9304 - val_loss: 0.6638\n",
      "Epoch 19/50\n",
      "\u001b[1m158/158\u001b[0m \u001b[32m━━━━━━━━━━━━━━━━━━━━\u001b[0m\u001b[37m\u001b[0m \u001b[1m17s\u001b[0m 105ms/step - accuracy: 0.9465 - loss: 0.6480 - val_accuracy: 0.9304 - val_loss: 0.6411\n",
      "Epoch 20/50\n",
      "\u001b[1m158/158\u001b[0m \u001b[32m━━━━━━━━━━━━━━━━━━━━\u001b[0m\u001b[37m\u001b[0m \u001b[1m17s\u001b[0m 106ms/step - accuracy: 0.9464 - loss: 0.6199 - val_accuracy: 0.9272 - val_loss: 0.6155\n",
      "Epoch 21/50\n",
      "\u001b[1m158/158\u001b[0m \u001b[32m━━━━━━━━━━━━━━━━━━━━\u001b[0m\u001b[37m\u001b[0m \u001b[1m16s\u001b[0m 103ms/step - accuracy: 0.9677 - loss: 0.5684 - val_accuracy: 0.9335 - val_loss: 0.5845\n",
      "Epoch 22/50\n",
      "\u001b[1m158/158\u001b[0m \u001b[32m━━━━━━━━━━━━━━━━━━━━\u001b[0m\u001b[37m\u001b[0m \u001b[1m17s\u001b[0m 105ms/step - accuracy: 0.9472 - loss: 0.5791 - val_accuracy: 0.9304 - val_loss: 0.5570\n",
      "Epoch 23/50\n",
      "\u001b[1m158/158\u001b[0m \u001b[32m━━━━━━━━━━━━━━━━━━━━\u001b[0m\u001b[37m\u001b[0m \u001b[1m16s\u001b[0m 103ms/step - accuracy: 0.9465 - loss: 0.5549 - val_accuracy: 0.9272 - val_loss: 0.5398\n",
      "Epoch 24/50\n",
      "\u001b[1m158/158\u001b[0m \u001b[32m━━━━━━━━━━━━━━━━━━━━\u001b[0m\u001b[37m\u001b[0m \u001b[1m17s\u001b[0m 104ms/step - accuracy: 0.9479 - loss: 0.5534 - val_accuracy: 0.9367 - val_loss: 0.5435\n",
      "Epoch 25/50\n",
      "\u001b[1m158/158\u001b[0m \u001b[32m━━━━━━━━━━━━━━━━━━━━\u001b[0m\u001b[37m\u001b[0m \u001b[1m16s\u001b[0m 103ms/step - accuracy: 0.9708 - loss: 0.4660 - val_accuracy: 0.8987 - val_loss: 0.5928\n",
      "Epoch 26/50\n",
      "\u001b[1m158/158\u001b[0m \u001b[32m━━━━━━━━━━━━━━━━━━━━\u001b[0m\u001b[37m\u001b[0m \u001b[1m17s\u001b[0m 105ms/step - accuracy: 0.9695 - loss: 0.4758 - val_accuracy: 0.9272 - val_loss: 0.5187\n",
      "Epoch 27/50\n",
      "\u001b[1m158/158\u001b[0m \u001b[32m━━━━━━━━━━━━━━━━━━━━\u001b[0m\u001b[37m\u001b[0m \u001b[1m16s\u001b[0m 103ms/step - accuracy: 0.9688 - loss: 0.4796 - val_accuracy: 0.8449 - val_loss: 0.6467\n",
      "Epoch 28/50\n",
      "\u001b[1m158/158\u001b[0m \u001b[32m━━━━━━━━━━━━━━━━━━━━\u001b[0m\u001b[37m\u001b[0m \u001b[1m17s\u001b[0m 105ms/step - accuracy: 0.9464 - loss: 0.4731 - val_accuracy: 0.9177 - val_loss: 0.5081\n",
      "Epoch 29/50\n",
      "\u001b[1m158/158\u001b[0m \u001b[32m━━━━━━━━━━━━━━━━━━━━\u001b[0m\u001b[37m\u001b[0m \u001b[1m17s\u001b[0m 104ms/step - accuracy: 0.9589 - loss: 0.4483 - val_accuracy: 0.9304 - val_loss: 0.4739\n",
      "Epoch 30/50\n",
      "\u001b[1m158/158\u001b[0m \u001b[32m━━━━━━━━━━━━━━━━━━━━\u001b[0m\u001b[37m\u001b[0m \u001b[1m16s\u001b[0m 103ms/step - accuracy: 0.9537 - loss: 0.4529 - val_accuracy: 0.9304 - val_loss: 0.5095\n",
      "Epoch 31/50\n",
      "\u001b[1m158/158\u001b[0m \u001b[32m━━━━━━━━━━━━━━━━━━━━\u001b[0m\u001b[37m\u001b[0m \u001b[1m16s\u001b[0m 103ms/step - accuracy: 0.9594 - loss: 0.4584 - val_accuracy: 0.9177 - val_loss: 0.6971\n",
      "Epoch 32/50\n",
      "\u001b[1m158/158\u001b[0m \u001b[32m━━━━━━━━━━━━━━━━━━━━\u001b[0m\u001b[37m\u001b[0m \u001b[1m16s\u001b[0m 104ms/step - accuracy: 0.9496 - loss: 0.4589 - val_accuracy: 0.9209 - val_loss: 0.4989\n",
      "Epoch 33/50\n",
      "\u001b[1m158/158\u001b[0m \u001b[32m━━━━━━━━━━━━━━━━━━━━\u001b[0m\u001b[37m\u001b[0m \u001b[1m17s\u001b[0m 104ms/step - accuracy: 0.9748 - loss: 0.4095 - val_accuracy: 0.9335 - val_loss: 0.5017\n",
      "Epoch 34/50\n",
      "\u001b[1m158/158\u001b[0m \u001b[32m━━━━━━━━━━━━━━━━━━━━\u001b[0m\u001b[37m\u001b[0m \u001b[1m16s\u001b[0m 103ms/step - accuracy: 0.9543 - loss: 0.4260 - val_accuracy: 0.9177 - val_loss: 0.5193\n",
      "Epoch 35/50\n",
      "\u001b[1m158/158\u001b[0m \u001b[32m━━━━━━━━━━━━━━━━━━━━\u001b[0m\u001b[37m\u001b[0m \u001b[1m17s\u001b[0m 106ms/step - accuracy: 0.9705 - loss: 0.4039 - val_accuracy: 0.9209 - val_loss: 0.5007\n",
      "Epoch 36/50\n",
      "\u001b[1m158/158\u001b[0m \u001b[32m━━━━━━━━━━━━━━━━━━━━\u001b[0m\u001b[37m\u001b[0m \u001b[1m17s\u001b[0m 107ms/step - accuracy: 0.9747 - loss: 0.3719 - val_accuracy: 0.9304 - val_loss: 0.4671\n",
      "Epoch 37/50\n",
      "\u001b[1m158/158\u001b[0m \u001b[32m━━━━━━━━━━━━━━━━━━━━\u001b[0m\u001b[37m\u001b[0m \u001b[1m17s\u001b[0m 105ms/step - accuracy: 0.9740 - loss: 0.3765 - val_accuracy: 0.9304 - val_loss: 0.4997\n",
      "Epoch 38/50\n",
      "\u001b[1m158/158\u001b[0m \u001b[32m━━━━━━━━━━━━━━━━━━━━\u001b[0m\u001b[37m\u001b[0m \u001b[1m17s\u001b[0m 105ms/step - accuracy: 0.9770 - loss: 0.3731 - val_accuracy: 0.9177 - val_loss: 0.4795\n",
      "Epoch 39/50\n",
      "\u001b[1m158/158\u001b[0m \u001b[32m━━━━━━━━━━━━━━━━━━━━\u001b[0m\u001b[37m\u001b[0m \u001b[1m17s\u001b[0m 106ms/step - accuracy: 0.9663 - loss: 0.3934 - val_accuracy: 0.9146 - val_loss: 0.5158\n",
      "Epoch 40/50\n",
      "\u001b[1m158/158\u001b[0m \u001b[32m━━━━━━━━━━━━━━━━━━━━\u001b[0m\u001b[37m\u001b[0m \u001b[1m17s\u001b[0m 104ms/step - accuracy: 0.9679 - loss: 0.3661 - val_accuracy: 0.9272 - val_loss: 0.4513\n",
      "Epoch 41/50\n",
      "\u001b[1m158/158\u001b[0m \u001b[32m━━━━━━━━━━━━━━━━━━━━\u001b[0m\u001b[37m\u001b[0m \u001b[1m17s\u001b[0m 105ms/step - accuracy: 0.9644 - loss: 0.3725 - val_accuracy: 0.9209 - val_loss: 0.5235\n",
      "Epoch 42/50\n",
      "\u001b[1m158/158\u001b[0m \u001b[32m━━━━━━━━━━━━━━━━━━━━\u001b[0m\u001b[37m\u001b[0m \u001b[1m17s\u001b[0m 104ms/step - accuracy: 0.9775 - loss: 0.3565 - val_accuracy: 0.9304 - val_loss: 0.4909\n",
      "Epoch 43/50\n",
      "\u001b[1m158/158\u001b[0m \u001b[32m━━━━━━━━━━━━━━━━━━━━\u001b[0m\u001b[37m\u001b[0m \u001b[1m17s\u001b[0m 104ms/step - accuracy: 0.9646 - loss: 0.3594 - val_accuracy: 0.9241 - val_loss: 0.4611\n",
      "Epoch 44/50\n",
      "\u001b[1m158/158\u001b[0m \u001b[32m━━━━━━━━━━━━━━━━━━━━\u001b[0m\u001b[37m\u001b[0m \u001b[1m17s\u001b[0m 108ms/step - accuracy: 0.9729 - loss: 0.3552 - val_accuracy: 0.9272 - val_loss: 0.4924\n",
      "Epoch 45/50\n",
      "\u001b[1m158/158\u001b[0m \u001b[32m━━━━━━━━━━━━━━━━━━━━\u001b[0m\u001b[37m\u001b[0m \u001b[1m17s\u001b[0m 104ms/step - accuracy: 0.9802 - loss: 0.3351 - val_accuracy: 0.9272 - val_loss: 0.6047\n",
      "Epoch 46/50\n",
      "\u001b[1m158/158\u001b[0m \u001b[32m━━━━━━━━━━━━━━━━━━━━\u001b[0m\u001b[37m\u001b[0m \u001b[1m16s\u001b[0m 104ms/step - accuracy: 0.9769 - loss: 0.3394 - val_accuracy: 0.9241 - val_loss: 0.4654\n",
      "Epoch 47/50\n",
      "\u001b[1m158/158\u001b[0m \u001b[32m━━━━━━━━━━━━━━━━━━━━\u001b[0m\u001b[37m\u001b[0m \u001b[1m17s\u001b[0m 105ms/step - accuracy: 0.9834 - loss: 0.3252 - val_accuracy: 0.9367 - val_loss: 0.4401\n",
      "Epoch 48/50\n",
      "\u001b[1m158/158\u001b[0m \u001b[32m━━━━━━━━━━━━━━━━━━━━\u001b[0m\u001b[37m\u001b[0m \u001b[1m16s\u001b[0m 104ms/step - accuracy: 0.9698 - loss: 0.3411 - val_accuracy: 0.9462 - val_loss: 0.3968\n",
      "Epoch 49/50\n",
      "\u001b[1m158/158\u001b[0m \u001b[32m━━━━━━━━━━━━━━━━━━━━\u001b[0m\u001b[37m\u001b[0m \u001b[1m17s\u001b[0m 104ms/step - accuracy: 0.9706 - loss: 0.3371 - val_accuracy: 0.9367 - val_loss: 0.4027\n",
      "Epoch 50/50\n",
      "\u001b[1m158/158\u001b[0m \u001b[32m━━━━━━━━━━━━━━━━━━━━\u001b[0m\u001b[37m\u001b[0m \u001b[1m16s\u001b[0m 103ms/step - accuracy: 0.9725 - loss: 0.3216 - val_accuracy: 0.9367 - val_loss: 0.3863\n"
     ]
    }
   ],
   "source": [
    "epochs = 50   # number of all epochs in training\n",
    "\n",
    "history = model.fit(x= train_gen, epochs= epochs, verbose= 1, validation_data= test_gen, \n",
    "                    validation_steps= None, shuffle= False)"
   ]
  },
  {
   "cell_type": "code",
   "execution_count": 9,
   "id": "2d6bb2aa",
   "metadata": {
    "execution": {
     "iopub.execute_input": "2024-07-24T00:16:55.175793Z",
     "iopub.status.busy": "2024-07-24T00:16:55.175402Z",
     "iopub.status.idle": "2024-07-24T00:17:10.946229Z",
     "shell.execute_reply": "2024-07-24T00:17:10.945280Z"
    },
    "papermill": {
     "duration": 16.420869,
     "end_time": "2024-07-24T00:17:10.948213",
     "exception": false,
     "start_time": "2024-07-24T00:16:54.527344",
     "status": "completed"
    },
    "tags": []
   },
   "outputs": [
    {
     "name": "stdout",
     "output_type": "stream",
     "text": [
      "\u001b[1m158/158\u001b[0m \u001b[32m━━━━━━━━━━━━━━━━━━━━\u001b[0m\u001b[37m\u001b[0m \u001b[1m13s\u001b[0m 84ms/step - accuracy: 0.9968 - loss: 0.2405\n",
      "\u001b[1m40/40\u001b[0m \u001b[32m━━━━━━━━━━━━━━━━━━━━\u001b[0m\u001b[37m\u001b[0m \u001b[1m2s\u001b[0m 56ms/step - accuracy: 0.9209 - loss: 0.3966\n",
      "Train Loss:  0.25167596340179443\n",
      "Train Accuracy:  0.996038019657135\n",
      "--------------------\n",
      "Test Loss:  0.38626983761787415\n",
      "Test Accuracy:  0.9367088675498962\n"
     ]
    }
   ],
   "source": [
    "train_score = model.evaluate(train_gen, verbose= 1)\n",
    "test_score = model.evaluate(test_gen, verbose= 1)\n",
    "\n",
    "print(\"Train Loss: \", train_score[0])\n",
    "print(\"Train Accuracy: \", train_score[1])\n",
    "print('-' * 20)\n",
    "print(\"Test Loss: \", test_score[0])\n",
    "print(\"Test Accuracy: \", test_score[1])"
   ]
  },
  {
   "cell_type": "code",
   "execution_count": 10,
   "id": "d6c21fb2",
   "metadata": {
    "execution": {
     "iopub.execute_input": "2024-07-24T00:17:12.321724Z",
     "iopub.status.busy": "2024-07-24T00:17:12.320974Z",
     "iopub.status.idle": "2024-07-24T00:17:31.391307Z",
     "shell.execute_reply": "2024-07-24T00:17:31.390308Z"
    },
    "papermill": {
     "duration": 19.782883,
     "end_time": "2024-07-24T00:17:31.393537",
     "exception": false,
     "start_time": "2024-07-24T00:17:11.610654",
     "status": "completed"
    },
    "tags": []
   },
   "outputs": [
    {
     "name": "stdout",
     "output_type": "stream",
     "text": [
      "\u001b[1m 5/40\u001b[0m \u001b[32m━━\u001b[0m\u001b[37m━━━━━━━━━━━━━━━━━━\u001b[0m \u001b[1m1s\u001b[0m 38ms/step"
     ]
    },
    {
     "name": "stderr",
     "output_type": "stream",
     "text": [
      "W0000 00:00:1721780240.682151      70 graph_launch.cc:671] Fallback to op-by-op mode because memset node breaks graph update\n"
     ]
    },
    {
     "name": "stdout",
     "output_type": "stream",
     "text": [
      "\u001b[1m40/40\u001b[0m \u001b[32m━━━━━━━━━━━━━━━━━━━━\u001b[0m\u001b[37m\u001b[0m \u001b[1m19s\u001b[0m 273ms/step\n"
     ]
    }
   ],
   "source": [
    "preds = model.predict(test_gen)\n",
    "y_pred = np.argmax(preds, axis=1)"
   ]
  },
  {
   "cell_type": "code",
   "execution_count": 11,
   "id": "9090026b",
   "metadata": {
    "execution": {
     "iopub.execute_input": "2024-07-24T00:17:32.710913Z",
     "iopub.status.busy": "2024-07-24T00:17:32.709998Z",
     "iopub.status.idle": "2024-07-24T00:17:33.204439Z",
     "shell.execute_reply": "2024-07-24T00:17:33.203534Z"
    },
    "papermill": {
     "duration": 1.152692,
     "end_time": "2024-07-24T00:17:33.206419",
     "exception": false,
     "start_time": "2024-07-24T00:17:32.053727",
     "status": "completed"
    },
    "tags": []
   },
   "outputs": [
    {
     "data": {
      "image/png": "[encoded data removed]",
      "text/plain": [
       "<Figure size 1000x1000 with 2 Axes>"
      ]
     },
     "metadata": {},
     "output_type": "display_data"
    }
   ],
   "source": [
    "g_dict = test_gen.class_indices\n",
    "classes = list(g_dict.keys())\n",
    "\n",
    "# Confusion matrix\n",
    "cm = confusion_matrix(test_gen.classes, y_pred)\n",
    "\n",
    "plt.figure(figsize= (10, 10))\n",
    "plt.imshow(cm, interpolation= 'nearest', cmap= plt.cm.Blues)\n",
    "plt.title('Confusion Matrix')\n",
    "plt.colorbar()\n",
    "\n",
    "tick_marks = np.arange(len(classes))\n",
    "plt.xticks(tick_marks, classes, rotation= 45)\n",
    "plt.yticks(tick_marks, classes)\n",
    "\n",
    "\n",
    "thresh = cm.max() / 2.\n",
    "for i, j in itertools.product(range(cm.shape[0]), range(cm.shape[1])):\n",
    "    plt.text(j, i, cm[i, j], horizontalalignment= 'center', color= 'white' if cm[i, j] > thresh else 'black')\n",
    "\n",
    "plt.tight_layout()\n",
    "plt.ylabel('True Label')\n",
    "plt.xlabel('Predicted Label')\n",
    "\n",
    "plt.show()"
   ]
  },
  {
   "cell_type": "code",
   "execution_count": 12,
   "id": "f51a295b",
   "metadata": {
    "execution": {
     "iopub.execute_input": "2024-07-24T00:17:34.597475Z",
     "iopub.status.busy": "2024-07-24T00:17:34.597094Z",
     "iopub.status.idle": "2024-07-24T00:17:34.611273Z",
     "shell.execute_reply": "2024-07-24T00:17:34.610454Z"
    },
    "papermill": {
     "duration": 0.6814,
     "end_time": "2024-07-24T00:17:34.613170",
     "exception": false,
     "start_time": "2024-07-24T00:17:33.931770",
     "status": "completed"
    },
    "tags": []
   },
   "outputs": [
    {
     "name": "stdout",
     "output_type": "stream",
     "text": [
      "              precision    recall  f1-score   support\n",
      "\n",
      "      benign       0.95      0.95      0.95       179\n",
      "   malignant       0.97      0.88      0.93        84\n",
      "      normal       0.85      0.98      0.91        53\n",
      "\n",
      "    accuracy                           0.94       316\n",
      "   macro avg       0.93      0.94      0.93       316\n",
      "weighted avg       0.94      0.94      0.94       316\n",
      "\n"
     ]
    }
   ],
   "source": [
    "# Classification report\n",
    "print(classification_report(test_gen.classes, y_pred, target_names= classes))"
   ]
  },
  {
   "cell_type": "code",
   "execution_count": 13,
   "id": "16ebaf22",
   "metadata": {
    "execution": {
     "iopub.execute_input": "2024-07-24T00:17:35.981090Z",
     "iopub.status.busy": "2024-07-24T00:17:35.980710Z",
     "iopub.status.idle": "2024-07-24T00:17:37.149744Z",
     "shell.execute_reply": "2024-07-24T00:17:37.148897Z"
    },
    "papermill": {
     "duration": 1.881718,
     "end_time": "2024-07-24T00:17:37.152269",
     "exception": false,
     "start_time": "2024-07-24T00:17:35.270551",
     "status": "completed"
    },
    "tags": []
   },
   "outputs": [],
   "source": [
    "#Save the model\n",
    "model.save('Model.h5')"
   ]
  }
 ],
 "metadata": {
  "kaggle": {
   "accelerator": "gpu",
   "dataSources": [
    {
     "datasetId": 1209633,
     "sourceId": 2021025,
     "sourceType": "datasetVersion"
    }
   ],
   "dockerImageVersionId": 30747,
   "isGpuEnabled": true,
   "isInternetEnabled": true,
   "language": "python",
   "sourceType": "notebook"
  },
  "kernelspec": {
   "display_name": "Python 3",
   "language": "python",
   "name": "python3"
  },
  "language_info": {
   "codemirror_mode": {
    "name": "ipython",
    "version": 3
   },
   "file_extension": ".py",
   "mimetype": "text/x-python",
   "name": "python",
   "nbconvert_exporter": "python",
   "pygments_lexer": "ipython3",
   "version": "3.10.13"
  },
  "papermill": {
   "default_parameters": {},
   "duration": 1165.964559,
   "end_time": "2024-07-24T00:17:41.325132",
   "environment_variables": {},
   "exception": null,
   "input_path": "__notebook__.ipynb",
   "output_path": "__notebook__.ipynb",
   "parameters": {},
   "start_time": "2024-07-23T23:58:15.360573",
   "version": "2.5.0"
  }
 },
 "nbformat": 4,
 "nbformat_minor": 5
}
